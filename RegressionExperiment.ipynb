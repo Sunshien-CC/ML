{
 "cells": [
  {
   "cell_type": "code",
   "execution_count": 1,
   "metadata": {},
   "outputs": [],
   "source": [
    "import numpy as np\n",
    "from sklearn.datasets import load_svmlight_file\n",
    "import matplotlib.pyplot as plt\n",
    "from sklearn.model_selection import train_test_split"
   ]
  },
  {
   "cell_type": "code",
   "execution_count": 2,
   "metadata": {
    "scrolled": false
   },
   "outputs": [],
   "source": [
    "data=load_svmlight_file('housing_scale.txt')\n",
    "x=data[0].todense()\n",
    "y=data[1]"
   ]
  },
  {
   "cell_type": "code",
   "execution_count": 3,
   "metadata": {},
   "outputs": [],
   "source": [
    "X_train,X_validation,y_train,y_validation=train_test_split(x,y,test_size=0.2,random_state=100)"
   ]
  },
  {
   "cell_type": "code",
   "execution_count": 4,
   "metadata": {},
   "outputs": [],
   "source": [
    "X_train=X_train.T#x为列向量\n",
    "x_0=np.ones(X_train.shape[1])#x0=1\n",
    "X_train=np.row_stack((X_train,x_0))\n",
    "y_train=np.mat(y_train)#y为行向量\n",
    "\n",
    "X_validation=X_validation.T#x为列向量\n",
    "x_0=np.ones(X_validation.shape[1])#x0=1\n",
    "X_validation=np.row_stack((X_validation,x_0))\n",
    "y_validation=np.mat(y_validation)#y为行向量"
   ]
  },
  {
   "cell_type": "code",
   "execution_count": 5,
   "metadata": {},
   "outputs": [],
   "source": [
    "def compute_loss(w,x,y):\n",
    "    totalError = 0\n",
    "    y_pre=w.T*x\n",
    "    for i in range(y.shape[1]):\n",
    "        totalError+=((y[0,i]-y_pre[0,i])**2)/2.0\n",
    "    return (totalError/float(x.shape[1]))"
   ]
  },
  {
   "cell_type": "code",
   "execution_count": 7,
   "metadata": {},
   "outputs": [],
   "source": [
    "def compute_gradient(w_current,x,y,learning_rate):\n",
    "\n",
    "    w_gradient = np.mat(np.zeros(x.shape[0])).T\n",
    "    \n",
    "    N = float(x.shape[1])\n",
    "    X=x.T#每行对应一个样本\n",
    "    \n",
    "    w_gradient=2*(X.T*(X*w_current-y.T))\n",
    "    new_w = w_current-(learning_rate * w_gradient)\n",
    "    \n",
    "    return new_w\n"
   ]
  },
  {
   "cell_type": "code",
   "execution_count": 22,
   "metadata": {},
   "outputs": [],
   "source": [
    "learning_rate = 0.00001\n",
    "initial_w = np.mat(np.zeros(X_train.shape[0])).T\n",
    "    \n",
    "num_iter = 5000\n",
    "loss_train=[]\n",
    "loss_validation=[]\n",
    "loss_train.append(compute_loss(initial_w,X_train,y_train))\n",
    "loss_validation.append(compute_loss(initial_w,X_validation,y_validation))\n",
    "#train model\n",
    "w=initial_w\n",
    "for i in range(num_iter):\n",
    "    w=compute_gradient(w,X_train,y_train,learning_rate)\n",
    "    loss_train.append(compute_loss(w,X_train,y_train))\n",
    "    loss_validation.append(compute_loss(w,X_validation,y_validation))"
   ]
  },
  {
   "cell_type": "code",
   "execution_count": 23,
   "metadata": {},
   "outputs": [
    {
     "data": {
      "image/png": "[encoded data removed]",
      "text/plain": [
       "<matplotlib.figure.Figure at 0x2be25411390>"
      ]
     },
     "metadata": {},
     "output_type": "display_data"
    },
    {
     "name": "stdout",
     "output_type": "stream",
     "text": [
      "10.9888102744\n",
      "11.6955694087\n"
     ]
    }
   ],
   "source": [
    "plt.figure(figsize=(20,8))\n",
    "plt.plot(loss_train,color='red',label='Loss-train')\n",
    "plt.plot(loss_validation,color='blue',label='Loss-validation')\n",
    "plt.xlabel('iteration number')\n",
    "plt.ylabel('loss')\n",
    "plt.legend(fontsize=20)\n",
    "plt.show()\n",
    "print(loss_train[-1])\n",
    "print(loss_validation[-1])"
   ]
  },
  {
   "cell_type": "code",
   "execution_count": null,
   "metadata": {},
   "outputs": [],
   "source": []
  },
  {
   "cell_type": "code",
   "execution_count": null,
   "metadata": {},
   "outputs": [],
   "source": []
  },
  {
   "cell_type": "code",
   "execution_count": null,
   "metadata": {},
   "outputs": [],
   "source": []
  }
 ],
 "metadata": {
  "kernelspec": {
   "display_name": "Python 3",
   "language": "python",
   "name": "python3"
  },
  "language_info": {
   "codemirror_mode": {
    "name": "ipython",
    "version": 3
   },
   "file_extension": ".py",
   "mimetype": "text/x-python",
   "name": "python",
   "nbconvert_exporter": "python",
   "pygments_lexer": "ipython3",
   "version": "3.6.3"
  }
 },
 "nbformat": 4,
 "nbformat_minor": 2
}
